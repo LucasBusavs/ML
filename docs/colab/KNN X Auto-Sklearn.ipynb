{
  "nbformat": 4,
  "nbformat_minor": 0,
  "metadata": {
    "colab": {
      "provenance": [],
      "machine_shape": "hm",
      "collapsed_sections": [
        "LWd1UlMnhT2s",
        "K1VMqkGvhc3-",
        "YvxIPVyMhmKp",
        "kW3c7UYih0hT",
        "6p4faXjiViEC",
        "bb6jCOCQiAmP",
        "YB_ByzUdthp1",
        "3k-Qn15_toXE",
        "j3RI-wFxt2jJ",
        "M6ZMnHVFt8Nx"
      ]
    },
    "kernelspec": {
      "name": "python3",
      "display_name": "Python 3"
    }
  },
  "cells": [
    {
      "cell_type": "markdown",
      "source": [
        "# Install & Uninstall\n",
        "\n",
        "\n",
        "> Executar uma unica vez\n",
        "\n"
      ],
      "metadata": {
        "id": "F7GdSq-XuEr9"
      }
    },
    {
      "cell_type": "code",
      "source": [
        "!pip install Cython==0.29.36\n",
        "!pip uninstall scipy -y\n",
        "!pip install scipy==1.9\n",
        "!pip uninstall pyparsing -y\n",
        "!pip install pyparsing==2.4\n",
        "!pip uninstall scikit_learn -y"
      ],
      "metadata": {
        "id": "C0au9HQduJn8"
      },
      "execution_count": null,
      "outputs": []
    },
    {
      "cell_type": "code",
      "source": [
        "!pip uninstall imbalanced-learn -y\n",
        "!pip uninstall mlxtend -y\n",
        "!pip uninstall yellowbrick -y"
      ],
      "metadata": {
        "id": "jcdDGhiduKID"
      },
      "execution_count": null,
      "outputs": []
    },
    {
      "cell_type": "code",
      "source": [
        "!pip install scikit-learn==0.24.2 --no-build-isolation"
      ],
      "metadata": {
        "id": "csJS4POOuMHp"
      },
      "execution_count": null,
      "outputs": []
    },
    {
      "cell_type": "code",
      "source": [
        "!pip install auto-sklearn"
      ],
      "metadata": {
        "id": "IaCcPEwZuNaj"
      },
      "execution_count": null,
      "outputs": []
    },
    {
      "cell_type": "markdown",
      "metadata": {
        "id": "0MRC0e0KhQ0S"
      },
      "source": [
        "# K-Nearest Neighbors (K-NN)"
      ]
    },
    {
      "cell_type": "markdown",
      "metadata": {
        "id": "LWd1UlMnhT2s"
      },
      "source": [
        "## Importing the libraries"
      ]
    },
    {
      "cell_type": "code",
      "source": [
        "import numpy as np\n",
        "import matplotlib.pyplot as plt\n",
        "import pandas as pd\n",
        "import autosklearn\n",
        "from autosklearn.metrics import (accuracy,\n",
        "                                 f1,\n",
        "                                 roc_auc,\n",
        "                                 precision,\n",
        "                                 average_precision,\n",
        "                                 recall,\n",
        "                                 log_loss)"
      ],
      "metadata": {
        "id": "aL6DIPYiYaht"
      },
      "execution_count": null,
      "outputs": []
    },
    {
      "cell_type": "markdown",
      "metadata": {
        "id": "K1VMqkGvhc3-"
      },
      "source": [
        "## Importing the dataset"
      ]
    },
    {
      "cell_type": "code",
      "metadata": {
        "id": "M52QDmyzhh9s"
      },
      "source": [
        "dataset = pd.read_csv('HIV.csv', sep=';')\n",
        "X = dataset.iloc[:, 5:-1].values\n",
        "y = dataset.iloc[:, -1].values"
      ],
      "execution_count": null,
      "outputs": []
    },
    {
      "cell_type": "markdown",
      "metadata": {
        "id": "YvxIPVyMhmKp"
      },
      "source": [
        "## Splitting the dataset into the Training set and Test set"
      ]
    },
    {
      "cell_type": "code",
      "metadata": {
        "id": "AVzJWAXIhxoC"
      },
      "source": [
        "from sklearn.model_selection import train_test_split\n",
        "X_train, X_test, y_train, y_test = train_test_split(X, y, test_size = 0.25)"
      ],
      "execution_count": null,
      "outputs": []
    },
    {
      "cell_type": "markdown",
      "metadata": {
        "id": "kW3c7UYih0hT"
      },
      "source": [
        "## Feature Scaling"
      ]
    },
    {
      "cell_type": "code",
      "metadata": {
        "id": "9fQlDPKCh8sc"
      },
      "source": [
        "from sklearn.preprocessing import StandardScaler\n",
        "sc = StandardScaler()\n",
        "X_train = sc.fit_transform(X_train)\n",
        "X_test = sc.transform(X_test)"
      ],
      "execution_count": null,
      "outputs": []
    },
    {
      "cell_type": "markdown",
      "source": [
        "## PCA"
      ],
      "metadata": {
        "id": "6p4faXjiViEC"
      }
    },
    {
      "cell_type": "code",
      "source": [
        "from sklearn.decomposition import PCA\n",
        "pca = PCA(n_components=2)\n",
        "X_train_pca = pca.fit_transform(X_train)\n",
        "X_test_pca = pca.fit_transform(X_test)"
      ],
      "metadata": {
        "id": "WFdCj3RXVmYe"
      },
      "execution_count": null,
      "outputs": []
    },
    {
      "cell_type": "markdown",
      "metadata": {
        "id": "bb6jCOCQiAmP"
      },
      "source": [
        "## Training the K-NN model on the Training set"
      ]
    },
    {
      "cell_type": "code",
      "metadata": {
        "id": "e0pFVAmciHQs",
        "outputId": "2d5dcf45-54bb-4171-8bac-7e021f75c0b9",
        "colab": {
          "base_uri": "https://localhost:8080/"
        }
      },
      "source": [
        "from sklearn.neighbors import KNeighborsClassifier\n",
        "classifier = KNeighborsClassifier(n_neighbors = 7, metric = 'minkowski', p = 2)\n",
        "classifier.fit(X_train_pca, y_train)"
      ],
      "execution_count": null,
      "outputs": [
        {
          "output_type": "execute_result",
          "data": {
            "text/plain": [
              "KNeighborsClassifier(n_neighbors=7)"
            ]
          },
          "metadata": {},
          "execution_count": 29
        }
      ]
    },
    {
      "cell_type": "markdown",
      "metadata": {
        "id": "vKYVQH-l5NpE"
      },
      "source": [
        "## Predicting the Test set results"
      ]
    },
    {
      "cell_type": "code",
      "metadata": {
        "id": "p6VMTb2O4hwM",
        "outputId": "b751e54e-055b-4d71-828e-ce6929cc979b",
        "colab": {
          "base_uri": "https://localhost:8080/"
        }
      },
      "source": [
        "y_pred = classifier.predict(X_test_pca)\n",
        "print(np.concatenate((y_pred.reshape(len(y_pred),1), y_test.reshape(len(y_test),1)),1))"
      ],
      "execution_count": null,
      "outputs": [
        {
          "output_type": "stream",
          "name": "stdout",
          "text": [
            "[[1 1]\n",
            " [1 1]\n",
            " [1 1]\n",
            " ...\n",
            " [1 3]\n",
            " [1 1]\n",
            " [1 1]]\n"
          ]
        },
        {
          "output_type": "stream",
          "name": "stderr",
          "text": [
            "/usr/local/lib/python3.10/dist-packages/sklearn/neighbors/_classification.py:211: FutureWarning: Unlike other reduction functions (e.g. `skew`, `kurtosis`), the default behavior of `mode` typically preserves the axis it acts along. In SciPy 1.11.0, this behavior will change: the default value of `keepdims` will become False, the `axis` over which the statistic is taken will be eliminated, and the value None will no longer be accepted. Set `keepdims` to True or False to avoid this warning.\n",
            "  mode, _ = stats.mode(_y[neigh_ind, k], axis=1)\n"
          ]
        }
      ]
    },
    {
      "cell_type": "markdown",
      "metadata": {
        "id": "h4Hwj34ziWQW"
      },
      "source": [
        "## Making the Confusion Matrix & Classification Report"
      ]
    },
    {
      "cell_type": "code",
      "metadata": {
        "id": "D6bpZwUiiXic",
        "outputId": "7032849a-0afc-4d4f-8a79-e72e5dfb110b",
        "colab": {
          "base_uri": "https://localhost:8080/"
        }
      },
      "source": [
        "from sklearn.metrics import confusion_matrix, accuracy_score\n",
        "cm = confusion_matrix(y_test, y_pred)\n",
        "print(cm)"
      ],
      "execution_count": null,
      "outputs": [
        {
          "output_type": "stream",
          "name": "stdout",
          "text": [
            "[[503  49   0   0   0]\n",
            " [ 64   0   0   0   0]\n",
            " [ 25   0   0   0   2]\n",
            " [ 12   0   0   0   0]\n",
            " [  8   1   0   0   0]]\n"
          ]
        }
      ]
    },
    {
      "cell_type": "code",
      "source": [
        "from sklearn.metrics import classification_report\n",
        "\n",
        "print(classification_report(y_test,\n",
        "                           classifier.predict(X_test_pca)))"
      ],
      "metadata": {
        "colab": {
          "base_uri": "https://localhost:8080/"
        },
        "id": "LJR8GkryrVJ5",
        "outputId": "f1462032-52b2-4eb2-ab50-afc782047f07"
      },
      "execution_count": null,
      "outputs": [
        {
          "output_type": "stream",
          "name": "stdout",
          "text": [
            "              precision    recall  f1-score   support\n",
            "\n",
            "           1       0.82      0.91      0.86       552\n",
            "           2       0.00      0.00      0.00        64\n",
            "           3       0.00      0.00      0.00        27\n",
            "           4       0.00      0.00      0.00        12\n",
            "           5       0.00      0.00      0.00         9\n",
            "\n",
            "    accuracy                           0.76       664\n",
            "   macro avg       0.16      0.18      0.17       664\n",
            "weighted avg       0.68      0.76      0.72       664\n",
            "\n"
          ]
        },
        {
          "output_type": "stream",
          "name": "stderr",
          "text": [
            "/usr/local/lib/python3.10/dist-packages/sklearn/neighbors/_classification.py:211: FutureWarning: Unlike other reduction functions (e.g. `skew`, `kurtosis`), the default behavior of `mode` typically preserves the axis it acts along. In SciPy 1.11.0, this behavior will change: the default value of `keepdims` will become False, the `axis` over which the statistic is taken will be eliminated, and the value None will no longer be accepted. Set `keepdims` to True or False to avoid this warning.\n",
            "  mode, _ = stats.mode(_y[neigh_ind, k], axis=1)\n",
            "/usr/local/lib/python3.10/dist-packages/sklearn/metrics/_classification.py:1248: UndefinedMetricWarning: Precision and F-score are ill-defined and being set to 0.0 in labels with no predicted samples. Use `zero_division` parameter to control this behavior.\n",
            "  _warn_prf(average, modifier, msg_start, len(result))\n",
            "/usr/local/lib/python3.10/dist-packages/sklearn/metrics/_classification.py:1248: UndefinedMetricWarning: Precision and F-score are ill-defined and being set to 0.0 in labels with no predicted samples. Use `zero_division` parameter to control this behavior.\n",
            "  _warn_prf(average, modifier, msg_start, len(result))\n",
            "/usr/local/lib/python3.10/dist-packages/sklearn/metrics/_classification.py:1248: UndefinedMetricWarning: Precision and F-score are ill-defined and being set to 0.0 in labels with no predicted samples. Use `zero_division` parameter to control this behavior.\n",
            "  _warn_prf(average, modifier, msg_start, len(result))\n"
          ]
        }
      ]
    },
    {
      "cell_type": "markdown",
      "source": [
        "# Auto-Sklearn"
      ],
      "metadata": {
        "id": "yD5fsrcknvt_"
      }
    },
    {
      "cell_type": "markdown",
      "source": [
        "## Training the Auto-Sklearn model on the Training set"
      ],
      "metadata": {
        "id": "YB_ByzUdthp1"
      }
    },
    {
      "cell_type": "code",
      "source": [
        "import autosklearn.classification as classifier\n",
        "\n",
        "classifier = autosklearn.classification.AutoSklearnClassifier(\n",
        "    time_left_for_this_task=120,\n",
        "    per_run_time_limit=30,\n",
        ")\n",
        "\n",
        "classifier.fit(X_train_pca, y_train)"
      ],
      "metadata": {
        "colab": {
          "base_uri": "https://localhost:8080/"
        },
        "id": "IB1BPQMFnDVj",
        "outputId": "7985a347-3440-44df-9e28-d9ba909b07f5"
      },
      "execution_count": null,
      "outputs": [
        {
          "output_type": "execute_result",
          "data": {
            "text/plain": [
              "AutoSklearnClassifier(ensemble_class=<class 'autosklearn.ensembles.ensemble_selection.EnsembleSelection'>,\n",
              "                      per_run_time_limit=180, time_left_for_this_task=1800)"
            ]
          },
          "metadata": {},
          "execution_count": 40
        }
      ]
    },
    {
      "cell_type": "markdown",
      "source": [
        "## Leaderboard & Hyperparameters"
      ],
      "metadata": {
        "id": "3k-Qn15_toXE"
      }
    },
    {
      "cell_type": "code",
      "source": [
        "print(classifier.leaderboard())"
      ],
      "metadata": {
        "colab": {
          "base_uri": "https://localhost:8080/"
        },
        "id": "-mFf_x6goG0k",
        "outputId": "f4af9307-3635-44d1-bf47-b133ffae52d3"
      },
      "execution_count": null,
      "outputs": [
        {
          "output_type": "stream",
          "name": "stdout",
          "text": [
            "          rank  ensemble_weight                 type      cost   duration\n",
            "model_id                                                                 \n",
            "18           1             0.14        random_forest  0.100304   3.018579\n",
            "247          2             0.12        random_forest  0.104863   2.550339\n",
            "291          3             0.02        random_forest  0.107903   3.236886\n",
            "210          4             0.04        random_forest  0.109422   3.272823\n",
            "71           5             0.02        random_forest  0.110942   2.682914\n",
            "206          7             0.02        random_forest  0.110942   3.487064\n",
            "254          6             0.04        random_forest  0.110942   2.338216\n",
            "82           8             0.06        random_forest  0.112462   2.513035\n",
            "177          9             0.06        random_forest  0.113982   2.547721\n",
            "186         10             0.02        random_forest  0.113982   2.596955\n",
            "119         11             0.14        random_forest  0.115502   2.335843\n",
            "20          13             0.04        random_forest  0.117021   3.384233\n",
            "61          12             0.04        random_forest  0.117021   2.331159\n",
            "257         14             0.04        random_forest  0.117021   2.396600\n",
            "288         15             0.02        random_forest  0.117021   4.350050\n",
            "290         16             0.02  k_nearest_neighbors  0.118541   1.658808\n",
            "236         17             0.08        random_forest  0.121581   2.468491\n",
            "276         18             0.06        random_forest  0.123100   2.285191\n",
            "27          19             0.02                  mlp  0.124620  16.371977\n"
          ]
        }
      ]
    },
    {
      "cell_type": "code",
      "source": [
        "print(classifier.show_models())"
      ],
      "metadata": {
        "colab": {
          "base_uri": "https://localhost:8080/"
        },
        "id": "KZoOeDSGsCIj",
        "outputId": "ba606637-7af3-4775-f0c2-cc27aefcbd79"
      },
      "execution_count": null,
      "outputs": [
        {
          "output_type": "stream",
          "name": "stdout",
          "text": [
            "{18: {'model_id': 18, 'rank': 1, 'cost': 0.10030395136778114, 'ensemble_weight': 0.14, 'data_preprocessor': <autosklearn.pipeline.components.data_preprocessing.DataPreprocessorChoice object at 0x7fa5ed6bfc10>, 'balancing': Balancing(random_state=1), 'feature_preprocessor': <autosklearn.pipeline.components.feature_preprocessing.FeaturePreprocessorChoice object at 0x7fa5e99a7040>, 'classifier': <autosklearn.pipeline.components.classification.ClassifierChoice object at 0x7fa5e99a75e0>, 'sklearn_classifier': RandomForestClassifier(criterion='entropy', max_features=1, min_samples_split=5,\n",
            "                       n_estimators=512, n_jobs=1, random_state=1,\n",
            "                       warm_start=True)}, 20: {'model_id': 20, 'rank': 2, 'cost': 0.11702127659574468, 'ensemble_weight': 0.04, 'data_preprocessor': <autosklearn.pipeline.components.data_preprocessing.DataPreprocessorChoice object at 0x7fa5ee37a470>, 'balancing': Balancing(random_state=1), 'feature_preprocessor': <autosklearn.pipeline.components.feature_preprocessing.FeaturePreprocessorChoice object at 0x7fa5ecea9000>, 'classifier': <autosklearn.pipeline.components.classification.ClassifierChoice object at 0x7fa5ecea9960>, 'sklearn_classifier': RandomForestClassifier(max_features=1, min_samples_leaf=2, min_samples_split=20,\n",
            "                       n_estimators=512, n_jobs=1, random_state=1,\n",
            "                       warm_start=True)}, 27: {'model_id': 27, 'rank': 3, 'cost': 0.12462006079027355, 'ensemble_weight': 0.02, 'data_preprocessor': <autosklearn.pipeline.components.data_preprocessing.DataPreprocessorChoice object at 0x7fa5ed0545e0>, 'balancing': Balancing(random_state=1, strategy='weighting'), 'feature_preprocessor': <autosklearn.pipeline.components.feature_preprocessing.FeaturePreprocessorChoice object at 0x7fa5e986a770>, 'classifier': <autosklearn.pipeline.components.classification.ClassifierChoice object at 0x7fa5e9869930>, 'sklearn_classifier': MLPClassifier(activation='tanh', alpha=0.00021148999718383549, beta_1=0.999,\n",
            "              beta_2=0.9, hidden_layer_sizes=(113, 113, 113),\n",
            "              learning_rate_init=0.0007452270241186694, max_iter=256,\n",
            "              n_iter_no_change=32, random_state=1, validation_fraction=0.0,\n",
            "              verbose=0, warm_start=True)}, 61: {'model_id': 61, 'rank': 4, 'cost': 0.11702127659574468, 'ensemble_weight': 0.04, 'data_preprocessor': <autosklearn.pipeline.components.data_preprocessing.DataPreprocessorChoice object at 0x7fa5ee366320>, 'balancing': Balancing(random_state=1), 'feature_preprocessor': <autosklearn.pipeline.components.feature_preprocessing.FeaturePreprocessorChoice object at 0x7fa5e9329420>, 'classifier': <autosklearn.pipeline.components.classification.ClassifierChoice object at 0x7fa5e9328400>, 'sklearn_classifier': RandomForestClassifier(max_features=1, min_samples_leaf=3, min_samples_split=12,\n",
            "                       n_estimators=512, n_jobs=1, random_state=1,\n",
            "                       warm_start=True)}, 71: {'model_id': 71, 'rank': 5, 'cost': 0.11094224924012153, 'ensemble_weight': 0.02, 'data_preprocessor': <autosklearn.pipeline.components.data_preprocessing.DataPreprocessorChoice object at 0x7fa5ec173190>, 'balancing': Balancing(random_state=1), 'feature_preprocessor': <autosklearn.pipeline.components.feature_preprocessing.FeaturePreprocessorChoice object at 0x7fa5e91b19c0>, 'classifier': <autosklearn.pipeline.components.classification.ClassifierChoice object at 0x7fa5e91b3c40>, 'sklearn_classifier': RandomForestClassifier(max_features=1, min_samples_leaf=2, min_samples_split=7,\n",
            "                       n_estimators=512, n_jobs=1, random_state=1,\n",
            "                       warm_start=True)}, 82: {'model_id': 82, 'rank': 6, 'cost': 0.11246200607902734, 'ensemble_weight': 0.06, 'data_preprocessor': <autosklearn.pipeline.components.data_preprocessing.DataPreprocessorChoice object at 0x7fa5e94337f0>, 'balancing': Balancing(random_state=1), 'feature_preprocessor': <autosklearn.pipeline.components.feature_preprocessing.FeaturePreprocessorChoice object at 0x7fa5e97b1b10>, 'classifier': <autosklearn.pipeline.components.classification.ClassifierChoice object at 0x7fa5e97b37c0>, 'sklearn_classifier': RandomForestClassifier(criterion='entropy', max_features=1, min_samples_leaf=2,\n",
            "                       min_samples_split=15, n_estimators=512, n_jobs=1,\n",
            "                       random_state=1, warm_start=True)}, 119: {'model_id': 119, 'rank': 7, 'cost': 0.11550151975683887, 'ensemble_weight': 0.14, 'data_preprocessor': <autosklearn.pipeline.components.data_preprocessing.DataPreprocessorChoice object at 0x7fa5e9329f90>, 'balancing': Balancing(random_state=1), 'feature_preprocessor': <autosklearn.pipeline.components.feature_preprocessing.FeaturePreprocessorChoice object at 0x7fa5e920c340>, 'classifier': <autosklearn.pipeline.components.classification.ClassifierChoice object at 0x7fa5e920dc90>, 'sklearn_classifier': RandomForestClassifier(max_features=1, min_samples_leaf=3, min_samples_split=12,\n",
            "                       n_estimators=512, n_jobs=1, random_state=1,\n",
            "                       warm_start=True)}, 177: {'model_id': 177, 'rank': 8, 'cost': 0.11398176291793316, 'ensemble_weight': 0.06, 'data_preprocessor': <autosklearn.pipeline.components.data_preprocessing.DataPreprocessorChoice object at 0x7fa5e91b23e0>, 'balancing': Balancing(random_state=1), 'feature_preprocessor': <autosklearn.pipeline.components.feature_preprocessing.FeaturePreprocessorChoice object at 0x7fa5e89ff310>, 'classifier': <autosklearn.pipeline.components.classification.ClassifierChoice object at 0x7fa5e88b00d0>, 'sklearn_classifier': RandomForestClassifier(criterion='entropy', max_features=1, min_samples_leaf=3,\n",
            "                       min_samples_split=4, n_estimators=512, n_jobs=1,\n",
            "                       random_state=1, warm_start=True)}, 186: {'model_id': 186, 'rank': 9, 'cost': 0.11398176291793316, 'ensemble_weight': 0.02, 'data_preprocessor': <autosklearn.pipeline.components.data_preprocessing.DataPreprocessorChoice object at 0x7fa5e934bd60>, 'balancing': Balancing(random_state=1), 'feature_preprocessor': <autosklearn.pipeline.components.feature_preprocessing.FeaturePreprocessorChoice object at 0x7fa5e8854970>, 'classifier': <autosklearn.pipeline.components.classification.ClassifierChoice object at 0x7fa5e8855030>, 'sklearn_classifier': RandomForestClassifier(criterion='entropy', max_features=1, min_samples_leaf=2,\n",
            "                       min_samples_split=3, n_estimators=512, n_jobs=1,\n",
            "                       random_state=1, warm_start=True)}, 206: {'model_id': 206, 'rank': 10, 'cost': 0.11094224924012153, 'ensemble_weight': 0.02, 'data_preprocessor': <autosklearn.pipeline.components.data_preprocessing.DataPreprocessorChoice object at 0x7fa5e920cf10>, 'balancing': Balancing(random_state=1), 'feature_preprocessor': <autosklearn.pipeline.components.feature_preprocessing.FeaturePreprocessorChoice object at 0x7fa5e85f5900>, 'classifier': <autosklearn.pipeline.components.classification.ClassifierChoice object at 0x7fa5e85f6b90>, 'sklearn_classifier': RandomForestClassifier(criterion='entropy', max_features=1, min_samples_leaf=6,\n",
            "                       min_samples_split=7, n_estimators=512, n_jobs=1,\n",
            "                       random_state=1, warm_start=True)}, 210: {'model_id': 210, 'rank': 11, 'cost': 0.10942249240121582, 'ensemble_weight': 0.04, 'data_preprocessor': <autosklearn.pipeline.components.data_preprocessing.DataPreprocessorChoice object at 0x7fa5e89fd660>, 'balancing': Balancing(random_state=1), 'feature_preprocessor': <autosklearn.pipeline.components.feature_preprocessing.FeaturePreprocessorChoice object at 0x7fa5e83aae30>, 'classifier': <autosklearn.pipeline.components.classification.ClassifierChoice object at 0x7fa5e83aba00>, 'sklearn_classifier': RandomForestClassifier(max_features=1, min_samples_leaf=5, min_samples_split=13,\n",
            "                       n_estimators=512, n_jobs=1, random_state=1,\n",
            "                       warm_start=True)}, 236: {'model_id': 236, 'rank': 12, 'cost': 0.12158054711246202, 'ensemble_weight': 0.08, 'data_preprocessor': <autosklearn.pipeline.components.data_preprocessing.DataPreprocessorChoice object at 0x7fa5e87aef50>, 'balancing': Balancing(random_state=1), 'feature_preprocessor': <autosklearn.pipeline.components.feature_preprocessing.FeaturePreprocessorChoice object at 0x7fa5e82183d0>, 'classifier': <autosklearn.pipeline.components.classification.ClassifierChoice object at 0x7fa5e8218df0>, 'sklearn_classifier': RandomForestClassifier(criterion='entropy', max_features=1, min_samples_leaf=3,\n",
            "                       min_samples_split=19, n_estimators=512, n_jobs=1,\n",
            "                       random_state=1, warm_start=True)}, 247: {'model_id': 247, 'rank': 13, 'cost': 0.10486322188449848, 'ensemble_weight': 0.12, 'data_preprocessor': <autosklearn.pipeline.components.data_preprocessing.DataPreprocessorChoice object at 0x7fa5e85f41f0>, 'balancing': Balancing(random_state=1), 'feature_preprocessor': <autosklearn.pipeline.components.feature_preprocessing.FeaturePreprocessorChoice object at 0x7fa5e7fb1480>, 'classifier': <autosklearn.pipeline.components.classification.ClassifierChoice object at 0x7fa5e7fb23b0>, 'sklearn_classifier': RandomForestClassifier(criterion='entropy', max_features=1, min_samples_leaf=2,\n",
            "                       min_samples_split=11, n_estimators=512, n_jobs=1,\n",
            "                       random_state=1, warm_start=True)}, 254: {'model_id': 254, 'rank': 14, 'cost': 0.11094224924012153, 'ensemble_weight': 0.04, 'data_preprocessor': <autosklearn.pipeline.components.data_preprocessing.DataPreprocessorChoice object at 0x7fa5e83a95d0>, 'balancing': Balancing(random_state=1), 'feature_preprocessor': <autosklearn.pipeline.components.feature_preprocessing.FeaturePreprocessorChoice object at 0x7fa5e7f469b0>, 'classifier': <autosklearn.pipeline.components.classification.ClassifierChoice object at 0x7fa5e7f47220>, 'sklearn_classifier': RandomForestClassifier(max_features=1, min_samples_leaf=6, min_samples_split=6,\n",
            "                       n_estimators=512, n_jobs=1, random_state=1,\n",
            "                       warm_start=True)}, 257: {'model_id': 257, 'rank': 15, 'cost': 0.11702127659574468, 'ensemble_weight': 0.04, 'data_preprocessor': <autosklearn.pipeline.components.data_preprocessing.DataPreprocessorChoice object at 0x7fa5e83767d0>, 'balancing': Balancing(random_state=1), 'feature_preprocessor': <autosklearn.pipeline.components.feature_preprocessing.FeaturePreprocessorChoice object at 0x7fa5e7d17bb0>, 'classifier': <autosklearn.pipeline.components.classification.ClassifierChoice object at 0x7fa5e7bbc7c0>, 'sklearn_classifier': RandomForestClassifier(max_features=1, min_samples_split=6, n_estimators=512,\n",
            "                       n_jobs=1, random_state=1, warm_start=True)}, 276: {'model_id': 276, 'rank': 16, 'cost': 0.12310030395136773, 'ensemble_weight': 0.06, 'data_preprocessor': <autosklearn.pipeline.components.data_preprocessing.DataPreprocessorChoice object at 0x7fa5e81279d0>, 'balancing': Balancing(random_state=1), 'feature_preprocessor': <autosklearn.pipeline.components.feature_preprocessing.FeaturePreprocessorChoice object at 0x7fa5e7b84f40>, 'classifier': <autosklearn.pipeline.components.classification.ClassifierChoice object at 0x7fa5e7b85b10>, 'sklearn_classifier': RandomForestClassifier(max_features=1, min_samples_leaf=10, min_samples_split=4,\n",
            "                       n_estimators=512, n_jobs=1, random_state=1,\n",
            "                       warm_start=True)}, 288: {'model_id': 288, 'rank': 17, 'cost': 0.11702127659574468, 'ensemble_weight': 0.02, 'data_preprocessor': <autosklearn.pipeline.components.data_preprocessing.DataPreprocessorChoice object at 0x7fa5e7f44f40>, 'balancing': Balancing(random_state=1), 'feature_preprocessor': <autosklearn.pipeline.components.feature_preprocessing.FeaturePreprocessorChoice object at 0x7fa5e78fdb40>, 'classifier': <autosklearn.pipeline.components.classification.ClassifierChoice object at 0x7fa5e78fe710>, 'sklearn_classifier': RandomForestClassifier(criterion='entropy', max_features=4, min_samples_leaf=12,\n",
            "                       min_samples_split=10, n_estimators=512, n_jobs=1,\n",
            "                       random_state=1, warm_start=True)}, 290: {'model_id': 290, 'rank': 18, 'cost': 0.1185410334346505, 'ensemble_weight': 0.02, 'data_preprocessor': <autosklearn.pipeline.components.data_preprocessing.DataPreprocessorChoice object at 0x7fa5e7d16140>, 'balancing': Balancing(random_state=1, strategy='weighting'), 'feature_preprocessor': <autosklearn.pipeline.components.feature_preprocessing.FeaturePreprocessorChoice object at 0x7fa5e76b6d70>, 'classifier': <autosklearn.pipeline.components.classification.ClassifierChoice object at 0x7fa5e7768040>, 'sklearn_classifier': KNeighborsClassifier(n_neighbors=54, weights='distance')}, 291: {'model_id': 291, 'rank': 19, 'cost': 0.10790273556231, 'ensemble_weight': 0.02, 'data_preprocessor': <autosklearn.pipeline.components.data_preprocessing.DataPreprocessorChoice object at 0x7fa5e7ac7340>, 'balancing': Balancing(random_state=1), 'feature_preprocessor': <autosklearn.pipeline.components.feature_preprocessing.FeaturePreprocessorChoice object at 0x7fa5e761f5b0>, 'classifier': <autosklearn.pipeline.components.classification.ClassifierChoice object at 0x7fa5e761fac0>, 'sklearn_classifier': RandomForestClassifier(criterion='entropy', max_features=1, min_samples_split=6,\n",
            "                       n_estimators=512, n_jobs=1, random_state=1,\n",
            "                       warm_start=True)}}\n"
          ]
        }
      ]
    },
    {
      "cell_type": "markdown",
      "source": [
        "## Predicting the Test set results"
      ],
      "metadata": {
        "id": "j3RI-wFxt2jJ"
      }
    },
    {
      "cell_type": "code",
      "source": [
        "y_pred = classifier.predict(X_test_pca)\n",
        "print(np.concatenate((y_pred.reshape(len(y_pred),1), y_test.reshape(len(y_test),1)),1))"
      ],
      "metadata": {
        "colab": {
          "base_uri": "https://localhost:8080/"
        },
        "id": "oojwwELMo9mx",
        "outputId": "2911f37c-64b4-48af-d8ae-d353599e1f37"
      },
      "execution_count": null,
      "outputs": [
        {
          "output_type": "stream",
          "name": "stdout",
          "text": [
            "[[1 1]\n",
            " [1 1]\n",
            " [1 1]\n",
            " ...\n",
            " [1 3]\n",
            " [1 1]\n",
            " [1 1]]\n"
          ]
        }
      ]
    },
    {
      "cell_type": "markdown",
      "source": [
        "## Making the Confusion Matrix & Classification Report"
      ],
      "metadata": {
        "id": "M6ZMnHVFt8Nx"
      }
    },
    {
      "cell_type": "code",
      "source": [
        "from sklearn.metrics import confusion_matrix, accuracy_score\n",
        "cm = confusion_matrix(y_test, y_pred)\n",
        "print(cm)"
      ],
      "metadata": {
        "colab": {
          "base_uri": "https://localhost:8080/"
        },
        "id": "URGuPvXipDsK",
        "outputId": "3b105fce-3d0b-495f-af89-bed5a86c90b7"
      },
      "execution_count": null,
      "outputs": [
        {
          "output_type": "stream",
          "name": "stdout",
          "text": [
            "[[515  37   0   0   0]\n",
            " [ 64   0   0   0   0]\n",
            " [ 25   0   2   0   0]\n",
            " [ 12   0   0   0   0]\n",
            " [  8   1   0   0   0]]\n"
          ]
        }
      ]
    },
    {
      "cell_type": "code",
      "source": [
        "from sklearn.metrics import classification_report\n",
        "\n",
        "print(classification_report(y_test,\n",
        "                           classifier.predict(X_test_pca)))"
      ],
      "metadata": {
        "colab": {
          "base_uri": "https://localhost:8080/"
        },
        "id": "ql7HIA3-qFyL",
        "outputId": "60f524d0-ab0e-4829-811b-a65cf0bfc541"
      },
      "execution_count": null,
      "outputs": [
        {
          "output_type": "stream",
          "name": "stdout",
          "text": [
            "              precision    recall  f1-score   support\n",
            "\n",
            "           1       0.83      0.93      0.88       552\n",
            "           2       0.00      0.00      0.00        64\n",
            "           3       1.00      0.07      0.14        27\n",
            "           4       0.00      0.00      0.00        12\n",
            "           5       0.00      0.00      0.00         9\n",
            "\n",
            "    accuracy                           0.78       664\n",
            "   macro avg       0.37      0.20      0.20       664\n",
            "weighted avg       0.73      0.78      0.73       664\n",
            "\n"
          ]
        },
        {
          "output_type": "stream",
          "name": "stderr",
          "text": [
            "/usr/local/lib/python3.10/dist-packages/sklearn/metrics/_classification.py:1248: UndefinedMetricWarning: Precision and F-score are ill-defined and being set to 0.0 in labels with no predicted samples. Use `zero_division` parameter to control this behavior.\n",
            "  _warn_prf(average, modifier, msg_start, len(result))\n",
            "/usr/local/lib/python3.10/dist-packages/sklearn/metrics/_classification.py:1248: UndefinedMetricWarning: Precision and F-score are ill-defined and being set to 0.0 in labels with no predicted samples. Use `zero_division` parameter to control this behavior.\n",
            "  _warn_prf(average, modifier, msg_start, len(result))\n",
            "/usr/local/lib/python3.10/dist-packages/sklearn/metrics/_classification.py:1248: UndefinedMetricWarning: Precision and F-score are ill-defined and being set to 0.0 in labels with no predicted samples. Use `zero_division` parameter to control this behavior.\n",
            "  _warn_prf(average, modifier, msg_start, len(result))\n"
          ]
        }
      ]
    }
  ]
}