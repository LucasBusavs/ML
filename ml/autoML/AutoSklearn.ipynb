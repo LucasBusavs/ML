{
  "nbformat": 4,
  "nbformat_minor": 0,
  "metadata": {
    "colab": {
      "provenance": []
    },
    "kernelspec": {
      "name": "py310",
      "display_name": "py310"
    }
  },
  "cells": [
    {
      "cell_type": "code",
      "execution_count": null,
      "metadata": {
        "id": "-HWHMzr3_kX8"
      },
      "outputs": [],
      "source": [
        "!wget https://github.com/korakot/kora/releases/download/v0.10/py310.sh\n",
        "!bash ./py310.sh -b -f -p /usr/local\n",
        "!python -m ipykernel install --name \"py310\" --user"
      ]
    },
    {
      "cell_type": "code",
      "source": [
        "!python --version"
      ],
      "metadata": {
        "id": "TjtkOwSGQIjM"
      },
      "execution_count": null,
      "outputs": []
    },
    {
      "cell_type": "code",
      "source": [
        "!pip install scipy==1.8.1\n"
      ],
      "metadata": {
        "id": "avGYk3NVQUw6"
      },
      "execution_count": null,
      "outputs": []
    },
    {
      "cell_type": "code",
      "source": [
        "!pip install Cython==0.29.35"
      ],
      "metadata": {
        "id": "tTLxhJ5-QajO"
      },
      "execution_count": null,
      "outputs": []
    },
    {
      "cell_type": "code",
      "source": [
        "!pip install scikit-learn==0.24.2 --no-build-isolation"
      ],
      "metadata": {
        "id": "MiyaA9bFQi41"
      },
      "execution_count": null,
      "outputs": []
    },
    {
      "cell_type": "code",
      "source": [
        "!pip install auto-sklearn"
      ],
      "metadata": {
        "id": "JqTlhN5dSHnm"
      },
      "execution_count": null,
      "outputs": []
    },
    {
      "cell_type": "code",
      "source": [
        "!pip show auto-sklearn"
      ],
      "metadata": {
        "id": "bVaR-j01SuM1"
      },
      "execution_count": null,
      "outputs": []
    },
    {
      "cell_type": "code",
      "source": [
        "!pip install tabulate"
      ],
      "metadata": {
        "id": "DqmBc6bokmVO"
      },
      "execution_count": null,
      "outputs": []
    },
    {
      "cell_type": "code",
      "source": [
        "import autosklearn.classification as classification\n",
        "import autosklearn.pipeline as pipeline\n",
        "import pandas as pd\n",
        "import numpy as np\n",
        "from sklearn.model_selection import train_test_split\n",
        "import time\n",
        "from score import pipeline_score\n",
        "import os\n",
        "import io\n",
        "import sys\n",
        "import csv"
      ],
      "metadata": {
        "id": "zhRvbbkwSE96"
      },
      "execution_count": null,
      "outputs": []
    },
    {
      "cell_type": "code",
      "source": [
        "# Redireciona os prints da função\n",
        "def capturar_e_salvar_prints_em_csv(func, *args, csv_filename=\"log.csv\", **kwargs):\n",
        "    buffer = io.StringIO()\n",
        "    stdout_original = sys.stdout  # Guarda o stdout original\n",
        "    sys.stdout = buffer           # Redireciona para o buffer\n",
        "\n",
        "    try:\n",
        "        resultado = func(*args, **kwargs)\n",
        "    finally:\n",
        "        sys.stdout = stdout_original  # Restaura o stdout original\n",
        "\n",
        "    # Pega o conteúdo dos prints\n",
        "    saida = buffer.getvalue().splitlines()\n",
        "\n",
        "    # Salva em um CSV\n",
        "    with open(csv_filename, mode='w', newline='', encoding='utf-8') as f:\n",
        "        writer = csv.writer(f)\n",
        "        writer.writerow([\"mensagem\"])\n",
        "        for linha in saida:\n",
        "            writer.writerow([linha])\n",
        "\n",
        "    return resultado\n",
        "\n",
        "# Listar todos os arquivos CSV na pasta\n",
        "datasets = [f for f in os.listdir() if f.endswith(\".csv\")]\n",
        "\n",
        "# Caminho do arquivo CSV onde os resultados serão armazenados\n",
        "result_csv_path = \"AutoSklearn_results.csv\"\n",
        "\n",
        "# Se o arquivo de resultados ainda não existir, cria com cabeçalho\n",
        "if not os.path.exists(result_csv_path):\n",
        "    pd.DataFrame(columns=[\"dataset\", \"best_params\", \"test_score\", \"execution_time\"]).to_csv(result_csv_path, index=False)\n",
        "\n",
        "model = classification.AutoSklearnClassifier(include={'classifier': ['decision_tree','k_nearest_neighbors','libsvm_svc', 'random_forest']})\n",
        "\n",
        "for dataset in datasets:\n",
        "  if dataset != \"AutoSklearn_results.csv\":\n",
        "    print(f\"\\nProcessando: {dataset}\")\n",
        "\n",
        "    # Carregar o dataset\n",
        "    df = pd.read_csv(dataset)\n",
        "    X = df.iloc[:, :-1].values\n",
        "    y = df.iloc[:, -1].values\n",
        "\n",
        "    X_train, X_test, y_train, y_test = train_test_split(X, y, test_size = 0.25, random_state=42)\n",
        "\n",
        "    start_time = time.time()\n",
        "    model.fit(X_train, y_train)\n",
        "    end_time = time.time()\n",
        "    execution_time = end_time - start_time\n",
        "\n",
        "    print(model.leaderboard())\n",
        "\n",
        "    y_pred = model.predict(X_test)\n",
        "    final_score = capturar_e_salvar_prints_em_csv(pipeline_score, y_test, y_pred, verbosity=True, csv_filename=f\"tabela {dataset}\")\n",
        "\n",
        "    # Criar um dicionário com os resultados\n",
        "    result = {\n",
        "        \"dataset\": dataset,\n",
        "        # Convertendo para string para evitar problemas de formatação\n",
        "        \"best_params\": str(model.show_models()),\n",
        "        \"test_score\": final_score,\n",
        "        \"execution_time\": execution_time,\n",
        "    }\n",
        "\n",
        "    # Adicionar ao arquivo CSV imediatamente\n",
        "    pd.DataFrame([result]).to_csv(result_csv_path, mode=\"a\", header=False, index=False)"
      ],
      "metadata": {
        "id": "KP6KCAxCPqm6",
        "colab": {
          "base_uri": "https://localhost:8080/"
        },
        "outputId": "4a8e337a-edc8-4453-c65c-0e9043d6ba2b"
      },
      "execution_count": null,
      "outputs": [
        {
          "output_type": "stream",
          "name": "stdout",
          "text": [
            "\n",
            "Processando: Sepsis Survival Minimal Clinical Records.csv\n",
            "[WARNING] [2025-04-25 02:12:04,330:Client-AutoMLSMBO(1)::ac637a19-217a-11f0-94e7-0242ac1c000c] Configuration 232 not found\n",
            "[WARNING] [2025-04-25 02:12:04,330:Client-AutoMLSMBO(1)::ac637a19-217a-11f0-94e7-0242ac1c000c] Configuration 422 not found\n",
            "[WARNING] [2025-04-25 02:12:04,330:Client-AutoMLSMBO(1)::ac637a19-217a-11f0-94e7-0242ac1c000c] Configuration 310 not found\n",
            "[WARNING] [2025-04-25 02:12:04,330:Client-AutoMLSMBO(1)::ac637a19-217a-11f0-94e7-0242ac1c000c] Configuration 437 not found\n",
            "[WARNING] [2025-04-25 02:12:04,330:Client-AutoMLSMBO(1)::ac637a19-217a-11f0-94e7-0242ac1c000c] Configuration 69 not found\n",
            "[WARNING] [2025-04-25 02:12:04,330:Client-AutoMLSMBO(1)::ac637a19-217a-11f0-94e7-0242ac1c000c] Configuration 653 not found\n",
            "[WARNING] [2025-04-25 02:12:04,330:Client-AutoMLSMBO(1)::ac637a19-217a-11f0-94e7-0242ac1c000c] Configuration 40 not found\n",
            "[WARNING] [2025-04-25 02:12:04,330:Client-AutoMLSMBO(1)::ac637a19-217a-11f0-94e7-0242ac1c000c] Configuration 264 not found\n",
            "[WARNING] [2025-04-25 02:12:04,331:Client-AutoMLSMBO(1)::ac637a19-217a-11f0-94e7-0242ac1c000c] Configuration 247 not found\n",
            "[WARNING] [2025-04-25 02:12:04,331:Client-AutoMLSMBO(1)::ac637a19-217a-11f0-94e7-0242ac1c000c] Configuration 378 not found\n",
            "[WARNING] [2025-04-25 02:12:04,331:Client-AutoMLSMBO(1)::ac637a19-217a-11f0-94e7-0242ac1c000c] Configuration 204 not found\n",
            "[WARNING] [2025-04-25 02:12:04,331:Client-AutoMLSMBO(1)::ac637a19-217a-11f0-94e7-0242ac1c000c] Configuration 37 not found\n",
            "[WARNING] [2025-04-25 02:12:04,331:Client-AutoMLSMBO(1)::ac637a19-217a-11f0-94e7-0242ac1c000c] Configuration 426 not found\n",
            "[WARNING] [2025-04-25 02:12:04,331:Client-AutoMLSMBO(1)::ac637a19-217a-11f0-94e7-0242ac1c000c] Configuration 605 not found\n",
            "[WARNING] [2025-04-25 02:12:04,331:Client-AutoMLSMBO(1)::ac637a19-217a-11f0-94e7-0242ac1c000c] Configuration 668 not found\n",
            "[WARNING] [2025-04-25 02:12:04,331:Client-AutoMLSMBO(1)::ac637a19-217a-11f0-94e7-0242ac1c000c] Configuration 670 not found\n",
            "[WARNING] [2025-04-25 02:12:04,331:Client-AutoMLSMBO(1)::ac637a19-217a-11f0-94e7-0242ac1c000c] Configuration 71 not found\n",
            "[WARNING] [2025-04-25 02:12:04,331:Client-AutoMLSMBO(1)::ac637a19-217a-11f0-94e7-0242ac1c000c] Configuration 430 not found\n",
            "[WARNING] [2025-04-25 02:12:04,331:Client-AutoMLSMBO(1)::ac637a19-217a-11f0-94e7-0242ac1c000c] Configuration 293 not found\n",
            "[WARNING] [2025-04-25 02:12:04,331:Client-AutoMLSMBO(1)::ac637a19-217a-11f0-94e7-0242ac1c000c] Configuration 154 not found\n",
            "[WARNING] [2025-04-25 02:12:04,331:Client-AutoMLSMBO(1)::ac637a19-217a-11f0-94e7-0242ac1c000c] Configuration 206 not found\n",
            "[WARNING] [2025-04-25 02:12:04,331:Client-AutoMLSMBO(1)::ac637a19-217a-11f0-94e7-0242ac1c000c] Configuration 262 not found\n",
            "[WARNING] [2025-04-25 02:12:04,332:Client-AutoMLSMBO(1)::ac637a19-217a-11f0-94e7-0242ac1c000c] Configuration 172 not found\n",
            "[WARNING] [2025-04-25 02:12:04,332:Client-AutoMLSMBO(1)::ac637a19-217a-11f0-94e7-0242ac1c000c] Configuration 518 not found\n",
            "[WARNING] [2025-04-25 02:12:04,332:Client-AutoMLSMBO(1)::ac637a19-217a-11f0-94e7-0242ac1c000c] Configuration 53 not found\n",
            "[WARNING] [2025-04-25 02:12:04,332:Client-AutoMLSMBO(1)::ac637a19-217a-11f0-94e7-0242ac1c000c] Configuration 386 not found\n",
            "[WARNING] [2025-04-25 02:12:04,332:Client-AutoMLSMBO(1)::ac637a19-217a-11f0-94e7-0242ac1c000c] Configuration 657 not found\n",
            "[WARNING] [2025-04-25 02:12:04,332:Client-AutoMLSMBO(1)::ac637a19-217a-11f0-94e7-0242ac1c000c] Configuration 302 not found\n",
            "[WARNING] [2025-04-25 02:12:04,332:Client-AutoMLSMBO(1)::ac637a19-217a-11f0-94e7-0242ac1c000c] Configuration 338 not found\n",
            "[WARNING] [2025-04-25 02:12:04,332:Client-AutoMLSMBO(1)::ac637a19-217a-11f0-94e7-0242ac1c000c] Configuration 43 not found\n",
            "[WARNING] [2025-04-25 02:12:04,332:Client-AutoMLSMBO(1)::ac637a19-217a-11f0-94e7-0242ac1c000c] Configuration 88 not found\n",
            "[WARNING] [2025-04-25 02:12:04,332:Client-AutoMLSMBO(1)::ac637a19-217a-11f0-94e7-0242ac1c000c] Configuration 238 not found\n",
            "[WARNING] [2025-04-25 02:12:04,333:Client-AutoMLSMBO(1)::ac637a19-217a-11f0-94e7-0242ac1c000c] Configuration 7 not found\n",
            "[WARNING] [2025-04-25 02:12:04,333:Client-AutoMLSMBO(1)::ac637a19-217a-11f0-94e7-0242ac1c000c] Configuration 254 not found\n",
            "[WARNING] [2025-04-25 02:12:04,333:Client-AutoMLSMBO(1)::ac637a19-217a-11f0-94e7-0242ac1c000c] Configuration 414 not found\n",
            "[WARNING] [2025-04-25 02:12:04,333:Client-AutoMLSMBO(1)::ac637a19-217a-11f0-94e7-0242ac1c000c] Configuration 277 not found\n",
            "[WARNING] [2025-04-25 02:12:04,333:Client-AutoMLSMBO(1)::ac637a19-217a-11f0-94e7-0242ac1c000c] Configuration 702 not found\n",
            "[WARNING] [2025-04-25 02:12:04,333:Client-AutoMLSMBO(1)::ac637a19-217a-11f0-94e7-0242ac1c000c] Configuration 91 not found\n",
            "[WARNING] [2025-04-25 02:12:04,333:Client-AutoMLSMBO(1)::ac637a19-217a-11f0-94e7-0242ac1c000c] Configuration 327 not found\n",
            "[WARNING] [2025-04-25 02:12:04,333:Client-AutoMLSMBO(1)::ac637a19-217a-11f0-94e7-0242ac1c000c] Configuration 492 not found\n",
            "[WARNING] [2025-04-25 02:12:04,333:Client-AutoMLSMBO(1)::ac637a19-217a-11f0-94e7-0242ac1c000c] Configuration 173 not found\n",
            "[WARNING] [2025-04-25 02:12:04,333:Client-AutoMLSMBO(1)::ac637a19-217a-11f0-94e7-0242ac1c000c] Configuration 631 not found\n",
            "[WARNING] [2025-04-25 02:12:04,333:Client-AutoMLSMBO(1)::ac637a19-217a-11f0-94e7-0242ac1c000c] Configuration 283 not found\n",
            "[WARNING] [2025-04-25 02:12:04,333:Client-AutoMLSMBO(1)::ac637a19-217a-11f0-94e7-0242ac1c000c] Configuration 22 not found\n",
            "[WARNING] [2025-04-25 02:12:04,333:Client-AutoMLSMBO(1)::ac637a19-217a-11f0-94e7-0242ac1c000c] Configuration 574 not found\n",
            "[WARNING] [2025-04-25 02:12:04,333:Client-AutoMLSMBO(1)::ac637a19-217a-11f0-94e7-0242ac1c000c] Configuration 467 not found\n",
            "[WARNING] [2025-04-25 02:12:04,339:Client-AutoMLSMBO(1)::ac637a19-217a-11f0-94e7-0242ac1c000c] Configuration 576 not found\n",
            "[WARNING] [2025-04-25 02:12:04,339:Client-AutoMLSMBO(1)::ac637a19-217a-11f0-94e7-0242ac1c000c] Configuration 183 not found\n",
            "[WARNING] [2025-04-25 02:12:04,340:Client-AutoMLSMBO(1)::ac637a19-217a-11f0-94e7-0242ac1c000c] Configuration 608 not found\n",
            "[WARNING] [2025-04-25 02:12:04,340:Client-AutoMLSMBO(1)::ac637a19-217a-11f0-94e7-0242ac1c000c] Configuration 659 not found\n",
            "[WARNING] [2025-04-25 02:12:04,340:Client-AutoMLSMBO(1)::ac637a19-217a-11f0-94e7-0242ac1c000c] Configuration 188 not found\n",
            "[WARNING] [2025-04-25 02:12:04,340:Client-AutoMLSMBO(1)::ac637a19-217a-11f0-94e7-0242ac1c000c] Configuration 506 not found\n",
            "[WARNING] [2025-04-25 02:12:04,340:Client-AutoMLSMBO(1)::ac637a19-217a-11f0-94e7-0242ac1c000c] Configuration 162 not found\n",
            "[WARNING] [2025-04-25 02:12:04,340:Client-AutoMLSMBO(1)::ac637a19-217a-11f0-94e7-0242ac1c000c] Configuration 270 not found\n",
            "[WARNING] [2025-04-25 02:12:04,340:Client-AutoMLSMBO(1)::ac637a19-217a-11f0-94e7-0242ac1c000c] Configuration 67 not found\n",
            "[WARNING] [2025-04-25 02:12:04,341:Client-AutoMLSMBO(1)::ac637a19-217a-11f0-94e7-0242ac1c000c] Configuration 347 not found\n",
            "[WARNING] [2025-04-25 02:12:04,344:Client-AutoMLSMBO(1)::ac637a19-217a-11f0-94e7-0242ac1c000c] Configuration 138 not found\n",
            "[WARNING] [2025-04-25 02:12:04,344:Client-AutoMLSMBO(1)::ac637a19-217a-11f0-94e7-0242ac1c000c] Configuration 19 not found\n",
            "[WARNING] [2025-04-25 02:12:04,344:Client-AutoMLSMBO(1)::ac637a19-217a-11f0-94e7-0242ac1c000c] Configuration 454 not found\n",
            "[WARNING] [2025-04-25 02:12:04,344:Client-AutoMLSMBO(1)::ac637a19-217a-11f0-94e7-0242ac1c000c] Configuration 1 not found\n",
            "[WARNING] [2025-04-25 02:12:04,344:Client-AutoMLSMBO(1)::ac637a19-217a-11f0-94e7-0242ac1c000c] Configuration 257 not found\n",
            "[WARNING] [2025-04-25 02:12:04,344:Client-AutoMLSMBO(1)::ac637a19-217a-11f0-94e7-0242ac1c000c] Configuration 14 not found\n",
            "[WARNING] [2025-04-25 02:12:04,344:Client-AutoMLSMBO(1)::ac637a19-217a-11f0-94e7-0242ac1c000c] Configuration 532 not found\n",
            "[WARNING] [2025-04-25 02:12:04,344:Client-AutoMLSMBO(1)::ac637a19-217a-11f0-94e7-0242ac1c000c] Configuration 114 not found\n",
            "[WARNING] [2025-04-25 02:12:04,344:Client-AutoMLSMBO(1)::ac637a19-217a-11f0-94e7-0242ac1c000c] Configuration 601 not found\n",
            "[WARNING] [2025-04-25 02:12:04,345:Client-AutoMLSMBO(1)::ac637a19-217a-11f0-94e7-0242ac1c000c] Configuration 595 not found\n",
            "[WARNING] [2025-04-25 02:12:04,345:Client-AutoMLSMBO(1)::ac637a19-217a-11f0-94e7-0242ac1c000c] Configuration 524 not found\n",
            "[WARNING] [2025-04-25 02:12:04,345:Client-AutoMLSMBO(1)::ac637a19-217a-11f0-94e7-0242ac1c000c] Configuration 176 not found\n",
            "[WARNING] [2025-04-25 02:12:04,345:Client-AutoMLSMBO(1)::ac637a19-217a-11f0-94e7-0242ac1c000c] Configuration 590 not found\n",
            "[WARNING] [2025-04-25 02:12:04,345:Client-AutoMLSMBO(1)::ac637a19-217a-11f0-94e7-0242ac1c000c] Configuration 329 not found\n",
            "[WARNING] [2025-04-25 02:12:04,345:Client-AutoMLSMBO(1)::ac637a19-217a-11f0-94e7-0242ac1c000c] Configuration 222 not found\n",
            "[WARNING] [2025-04-25 02:12:04,345:Client-AutoMLSMBO(1)::ac637a19-217a-11f0-94e7-0242ac1c000c] Configuration 628 not found\n",
            "[WARNING] [2025-04-25 02:12:04,345:Client-AutoMLSMBO(1)::ac637a19-217a-11f0-94e7-0242ac1c000c] Configuration 288 not found\n",
            "[WARNING] [2025-04-25 02:12:04,345:Client-AutoMLSMBO(1)::ac637a19-217a-11f0-94e7-0242ac1c000c] Configuration 75 not found\n",
            "[WARNING] [2025-04-25 02:12:04,345:Client-AutoMLSMBO(1)::ac637a19-217a-11f0-94e7-0242ac1c000c] Configuration 332 not found\n",
            "[WARNING] [2025-04-25 02:12:04,345:Client-AutoMLSMBO(1)::ac637a19-217a-11f0-94e7-0242ac1c000c] Configuration 647 not found\n",
            "[WARNING] [2025-04-25 02:12:04,345:Client-AutoMLSMBO(1)::ac637a19-217a-11f0-94e7-0242ac1c000c] Configuration 61 not found\n",
            "[WARNING] [2025-04-25 02:12:04,346:Client-AutoMLSMBO(1)::ac637a19-217a-11f0-94e7-0242ac1c000c] Configuration 184 not found\n",
            "[WARNING] [2025-04-25 02:12:04,346:Client-AutoMLSMBO(1)::ac637a19-217a-11f0-94e7-0242ac1c000c] Configuration 690 not found\n",
            "[WARNING] [2025-04-25 02:12:04,346:Client-AutoMLSMBO(1)::ac637a19-217a-11f0-94e7-0242ac1c000c] Configuration 149 not found\n",
            "[WARNING] [2025-04-25 02:12:04,346:Client-AutoMLSMBO(1)::ac637a19-217a-11f0-94e7-0242ac1c000c] Configuration 701 not found\n",
            "[WARNING] [2025-04-25 02:12:04,346:Client-AutoMLSMBO(1)::ac637a19-217a-11f0-94e7-0242ac1c000c] Configuration 345 not found\n",
            "[WARNING] [2025-04-25 02:12:04,346:Client-AutoMLSMBO(1)::ac637a19-217a-11f0-94e7-0242ac1c000c] Configuration 129 not found\n",
            "[WARNING] [2025-04-25 02:12:04,346:Client-AutoMLSMBO(1)::ac637a19-217a-11f0-94e7-0242ac1c000c] Configuration 211 not found\n",
            "[WARNING] [2025-04-25 02:12:04,346:Client-AutoMLSMBO(1)::ac637a19-217a-11f0-94e7-0242ac1c000c] Configuration 579 not found\n",
            "[WARNING] [2025-04-25 02:12:04,346:Client-AutoMLSMBO(1)::ac637a19-217a-11f0-94e7-0242ac1c000c] Configuration 460 not found\n",
            "[WARNING] [2025-04-25 02:12:04,346:Client-AutoMLSMBO(1)::ac637a19-217a-11f0-94e7-0242ac1c000c] Configuration 521 not found\n",
            "[WARNING] [2025-04-25 02:12:04,346:Client-AutoMLSMBO(1)::ac637a19-217a-11f0-94e7-0242ac1c000c] Configuration 563 not found\n",
            "[WARNING] [2025-04-25 02:12:04,346:Client-AutoMLSMBO(1)::ac637a19-217a-11f0-94e7-0242ac1c000c] Configuration 473 not found\n",
            "[WARNING] [2025-04-25 02:12:04,346:Client-AutoMLSMBO(1)::ac637a19-217a-11f0-94e7-0242ac1c000c] Configuration 680 not found\n",
            "[WARNING] [2025-04-25 02:12:04,347:Client-AutoMLSMBO(1)::ac637a19-217a-11f0-94e7-0242ac1c000c] Configuration 615 not found\n",
            "[WARNING] [2025-04-25 02:12:04,347:Client-AutoMLSMBO(1)::ac637a19-217a-11f0-94e7-0242ac1c000c] Configuration 32 not found\n",
            "[WARNING] [2025-04-25 02:12:04,347:Client-AutoMLSMBO(1)::ac637a19-217a-11f0-94e7-0242ac1c000c] Configuration 407 not found\n",
            "[WARNING] [2025-04-25 02:12:04,347:Client-AutoMLSMBO(1)::ac637a19-217a-11f0-94e7-0242ac1c000c] Configuration 230 not found\n",
            "[WARNING] [2025-04-25 02:12:04,347:Client-AutoMLSMBO(1)::ac637a19-217a-11f0-94e7-0242ac1c000c] Configuration 147 not found\n",
            "[WARNING] [2025-04-25 02:12:04,347:Client-AutoMLSMBO(1)::ac637a19-217a-11f0-94e7-0242ac1c000c] Configuration 375 not found\n",
            "[WARNING] [2025-04-25 02:12:04,347:Client-AutoMLSMBO(1)::ac637a19-217a-11f0-94e7-0242ac1c000c] Configuration 546 not found\n",
            "[WARNING] [2025-04-25 02:12:04,348:Client-AutoMLSMBO(1)::ac637a19-217a-11f0-94e7-0242ac1c000c] Configuration 17 not found\n",
            "[WARNING] [2025-04-25 02:12:04,348:Client-AutoMLSMBO(1)::ac637a19-217a-11f0-94e7-0242ac1c000c] Configuration 83 not found\n",
            "[WARNING] [2025-04-25 02:12:04,348:Client-AutoMLSMBO(1)::ac637a19-217a-11f0-94e7-0242ac1c000c] Configuration 707 not found\n",
            "[WARNING] [2025-04-25 02:12:04,348:Client-AutoMLSMBO(1)::ac637a19-217a-11f0-94e7-0242ac1c000c] Configuration 124 not found\n",
            "[WARNING] [2025-04-25 02:12:04,348:Client-AutoMLSMBO(1)::ac637a19-217a-11f0-94e7-0242ac1c000c] Configuration 352 not found\n",
            "[WARNING] [2025-04-25 02:12:04,348:Client-AutoMLSMBO(1)::ac637a19-217a-11f0-94e7-0242ac1c000c] Configuration 571 not found\n",
            "[WARNING] [2025-04-25 02:12:04,349:Client-AutoMLSMBO(1)::ac637a19-217a-11f0-94e7-0242ac1c000c] Configuration 617 not found\n",
            "[WARNING] [2025-04-25 02:12:04,349:Client-AutoMLSMBO(1)::ac637a19-217a-11f0-94e7-0242ac1c000c] Configuration 555 not found\n",
            "[WARNING] [2025-04-25 02:12:04,349:Client-AutoMLSMBO(1)::ac637a19-217a-11f0-94e7-0242ac1c000c] Configuration 613 not found\n",
            "[WARNING] [2025-04-25 02:12:04,350:Client-AutoMLSMBO(1)::ac637a19-217a-11f0-94e7-0242ac1c000c] Configuration 131 not found\n",
            "[WARNING] [2025-04-25 02:12:04,350:Client-AutoMLSMBO(1)::ac637a19-217a-11f0-94e7-0242ac1c000c] Configuration 214 not found\n",
            "[WARNING] [2025-04-25 02:12:04,369:Client-AutoMLSMBO(1)::ac637a19-217a-11f0-94e7-0242ac1c000c] Configuration 134 not found\n",
            "[WARNING] [2025-04-25 02:12:04,374:Client-AutoMLSMBO(1)::ac637a19-217a-11f0-94e7-0242ac1c000c] Configuration 363 not found\n",
            "[WARNING] [2025-04-25 02:12:04,374:Client-AutoMLSMBO(1)::ac637a19-217a-11f0-94e7-0242ac1c000c] Configuration 58 not found\n",
            "[WARNING] [2025-04-25 02:12:04,374:Client-AutoMLSMBO(1)::ac637a19-217a-11f0-94e7-0242ac1c000c] Configuration 243 not found\n",
            "[WARNING] [2025-04-25 02:12:04,374:Client-AutoMLSMBO(1)::ac637a19-217a-11f0-94e7-0242ac1c000c] Configuration 486 not found\n",
            "[WARNING] [2025-04-25 02:12:04,374:Client-AutoMLSMBO(1)::ac637a19-217a-11f0-94e7-0242ac1c000c] Configuration 480 not found\n",
            "[WARNING] [2025-04-25 02:12:04,374:Client-AutoMLSMBO(1)::ac637a19-217a-11f0-94e7-0242ac1c000c] Configuration 25 not found\n",
            "[WARNING] [2025-04-25 02:12:04,374:Client-AutoMLSMBO(1)::ac637a19-217a-11f0-94e7-0242ac1c000c] Configuration 102 not found\n",
            "[WARNING] [2025-04-25 02:12:04,378:Client-AutoMLSMBO(1)::ac637a19-217a-11f0-94e7-0242ac1c000c] Configuration 150 not found\n",
            "[WARNING] [2025-04-25 02:12:04,378:Client-AutoMLSMBO(1)::ac637a19-217a-11f0-94e7-0242ac1c000c] Configuration 640 not found\n",
            "[WARNING] [2025-04-25 02:12:04,378:Client-AutoMLSMBO(1)::ac637a19-217a-11f0-94e7-0242ac1c000c] Configuration 538 not found\n",
            "[WARNING] [2025-04-25 02:12:04,378:Client-AutoMLSMBO(1)::ac637a19-217a-11f0-94e7-0242ac1c000c] Configuration 120 not found\n",
            "[WARNING] [2025-04-25 02:12:04,378:Client-AutoMLSMBO(1)::ac637a19-217a-11f0-94e7-0242ac1c000c] Configuration 452 not found\n",
            "          rank  ensemble_weight                 type      cost    duration\n",
            "model_id                                                                  \n",
            "5           15             0.02        random_forest  0.073123   22.737187\n",
            "6           14             0.02        random_forest  0.073123   34.021070\n",
            "11          11             0.02        random_forest  0.073123   17.169122\n",
            "12          10             0.04        random_forest  0.073123   35.531870\n",
            "16           7             0.02        random_forest  0.073123   28.542372\n",
            "17           6             0.02        random_forest  0.073123   20.591283\n",
            "21           4             0.06        random_forest  0.073123   17.789463\n",
            "28          18             0.02        random_forest  0.073123   17.191502\n",
            "30           8             0.04           libsvm_svc  0.073123   35.693063\n",
            "31           2             0.02        random_forest  0.073123   12.594692\n",
            "41           3             0.02           libsvm_svc  0.073123   40.627900\n",
            "42           5             0.04           libsvm_svc  0.073123   55.237347\n",
            "43           9             0.02        random_forest  0.073123   27.444873\n",
            "45          17             0.04           libsvm_svc  0.073123   46.784672\n",
            "46          12             0.08           libsvm_svc  0.073123   35.734593\n",
            "48          13             0.02  k_nearest_neighbors  0.073123    2.481842\n",
            "49          16             0.02        random_forest  0.073123   20.081768\n",
            "53           1             0.04           libsvm_svc  0.073123   42.007712\n",
            "22          19             0.02        random_forest  0.073270   18.004834\n",
            "2           20             0.04        random_forest  0.073306   25.245383\n",
            "14          23             0.06        random_forest  0.073306   18.805529\n",
            "25          22             0.04        random_forest  0.073306   17.961081\n",
            "27          21             0.02        random_forest  0.073306   21.499627\n",
            "4           24             0.02  k_nearest_neighbors  0.073599    4.544677\n",
            "19          25             0.02  k_nearest_neighbors  0.111168    1.953048\n",
            "29          26             0.02           libsvm_svc  0.125558   29.439854\n",
            "24          27             0.02  k_nearest_neighbors  0.172354    2.081780\n",
            "8           28             0.02        random_forest  0.425412   19.484504\n",
            "50          29             0.04           libsvm_svc  0.439802  140.082706\n",
            "44          30             0.04        random_forest  0.442585   29.290301\n",
            "7           31             0.04           libsvm_svc  0.444892  245.488133\n",
            "13          32             0.04           libsvm_svc  0.608568  121.995780\n"
          ]
        }
      ]
    }
  ]
}